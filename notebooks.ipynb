{
  "nbformat": 4,
  "nbformat_minor": 0,
  "metadata": {
    "colab": {
      "private_outputs": true,
      "provenance": [],
      "collapsed_sections": []
    },
    "kernelspec": {
      "name": "python3",
      "display_name": "Python 3"
    },
    "language_info": {
      "name": "python"
    }
  },
  "cells": [
    {
      "cell_type": "markdown",
      "source": [
        "# **UAS**"
      ],
      "metadata": {
        "id": "7yWdXPAOYwHq"
      }
    },
    {
      "cell_type": "code",
      "execution_count": null,
      "metadata": {
        "id": "EtoQBe87YtMt"
      },
      "outputs": [],
      "source": [
        "import pandas as pd"
      ]
    },
    {
      "cell_type": "markdown",
      "source": [
        "## Read Data"
      ],
      "metadata": {
        "id": "QSVdk6z2a1GO"
      }
    },
    {
      "cell_type": "code",
      "source": [
        "df = pd.read_csv(\"https://raw.githubusercontent.com/Wing-Dimas/datamining/main/seattle-weather.csv\")\n",
        "df"
      ],
      "metadata": {
        "id": "HfVdtPPjY5_s"
      },
      "execution_count": null,
      "outputs": []
    },
    {
      "cell_type": "markdown",
      "source": [
        "## Exploration Data"
      ],
      "metadata": {
        "id": "i3nvgTCwa8BY"
      }
    },
    {
      "cell_type": "code",
      "source": [
        "df.head()"
      ],
      "metadata": {
        "id": "2A3QH2fPcjv1"
      },
      "execution_count": null,
      "outputs": []
    },
    {
      "cell_type": "code",
      "source": [
        "df[[\"precipitation\", \"temp_max\", \"temp_min\", \"wind\"]].agg(['min','max'])"
      ],
      "metadata": {
        "id": "6LqkwEMRdAvy"
      },
      "execution_count": null,
      "outputs": []
    },
    {
      "cell_type": "code",
      "source": [
        "df.weather.value_counts()"
      ],
      "metadata": {
        "id": "z78-ibQbaqsv"
      },
      "execution_count": null,
      "outputs": []
    },
    {
      "cell_type": "markdown",
      "source": [
        "## preprocessing data"
      ],
      "metadata": {
        "id": "p-34V-IHhSCu"
      }
    },
    {
      "cell_type": "code",
      "source": [
        "df = df.drop(columns=\"date\")\n"
      ],
      "metadata": {
        "id": "5e2SChR8hiTw"
      },
      "execution_count": null,
      "outputs": []
    },
    {
      "cell_type": "code",
      "source": [
        "X = df.drop(columns=\"weather\")\n",
        "y = df.weather"
      ],
      "metadata": {
        "id": "6C1QIjTait2O"
      },
      "execution_count": null,
      "outputs": []
    },
    {
      "cell_type": "code",
      "source": [
        "from sklearn import preprocessing\n",
        "le = preprocessing.LabelEncoder()\n",
        "le.fit(y)\n",
        "y = le.transform(y)\n",
        "y"
      ],
      "metadata": {
        "id": "ECUzZ6A2ipIx"
      },
      "execution_count": null,
      "outputs": []
    },
    {
      "cell_type": "code",
      "source": [
        "le.inverse_transform(y)"
      ],
      "metadata": {
        "id": "0thmwA4MHNyv"
      },
      "execution_count": null,
      "outputs": []
    },
    {
      "cell_type": "code",
      "source": [
        "labels = pd.get_dummies(df.weather).columns.values.tolist()\n",
        "labels"
      ],
      "metadata": {
        "id": "w5vKG3JZfpi1"
      },
      "execution_count": null,
      "outputs": []
    },
    {
      "cell_type": "markdown",
      "source": [
        "## normalize data"
      ],
      "metadata": {
        "id": "yWuNIIsohYtw"
      }
    },
    {
      "cell_type": "code",
      "source": [
        "# from sklearn.preprocessing import MinMaxScaler\n",
        "# scaler = MinMaxScaler()\n",
        "# scaler.fit(X)\n",
        "# X = scaler.transform(X)\n",
        "# X"
      ],
      "metadata": {
        "id": "Gsl_elah3xOw"
      },
      "execution_count": null,
      "outputs": []
    },
    {
      "cell_type": "code",
      "source": [
        "X.shape, y.shape"
      ],
      "metadata": {
        "id": "LFc6XKQKEsrl"
      },
      "execution_count": null,
      "outputs": []
    },
    {
      "cell_type": "markdown",
      "source": [
        "## K-Fold Validation"
      ],
      "metadata": {
        "id": "QbTN7FAJEdOy"
      }
    },
    {
      "cell_type": "code",
      "source": [
        "# scikit-learn k-fold cross-validation\n",
        "from numpy import array\n",
        "from sklearn.model_selection import KFold\n",
        "\n",
        "def cross_validation(model, X, y):\n",
        "    # prepare cross validation\n",
        "    kf = KFold(n_splits=4)\n",
        "    kf.get_n_splits(X)\n",
        "\n",
        "    # enumerate splits\n",
        "    i = 1\n",
        "\n",
        "    score = 0\n",
        "    for train_index, test_index in kf.split(X):\n",
        "        # print(\"TRAIN:\", train_index, \"TEST:\", test_index)\n",
        "        print(\"fold-\", i)\n",
        "        i += 1\n",
        "        X_train, X_test = X.iloc[train_index], X.iloc[test_index]\n",
        "        y_train, y_test = y[train_index], y[test_index]\n",
        "\n",
        "        model.fit(X_train, y_train)\n",
        "        print(model.score(X_train, y_train))\n",
        "        score_test = model.score(X_test, y_test)\n",
        "        if score_test > score:\n",
        "            X_train_best = train_index\n",
        "            y_train_best = train_index\n",
        "            score = score_test\n",
        "\n",
        "\n",
        "    return model.fit(X.iloc[X_train_best], y[y_train_best])"
      ],
      "metadata": {
        "id": "j9hxFUhnpJ2b"
      },
      "execution_count": null,
      "outputs": []
    },
    {
      "cell_type": "markdown",
      "source": [
        "## Gaussian Naive Bayes"
      ],
      "metadata": {
        "id": "jmUX9Hr3Dzle"
      }
    },
    {
      "cell_type": "code",
      "source": [
        "from sklearn.naive_bayes import GaussianNB\n",
        "\n",
        "model1 = cross_validation(GaussianNB(), X, y)\n",
        "y_pred = model1.predict(array([[0.0, 7.2, 0.6, 2.6]]))\n",
        "le.inverse_transform(y_pred)[0]"
      ],
      "metadata": {
        "id": "fWcPM5SwDy6v"
      },
      "execution_count": null,
      "outputs": []
    },
    {
      "cell_type": "markdown",
      "source": [
        "## k-nearest neighbors"
      ],
      "metadata": {
        "id": "3nvWJx_J8T9l"
      }
    },
    {
      "cell_type": "markdown",
      "source": [
        "k = 3 \n",
        "\n",
        "karena mendapatkan nilai tertinggi"
      ],
      "metadata": {
        "id": "FDFdy26X9aJo"
      }
    },
    {
      "cell_type": "code",
      "source": [
        "from sklearn.neighbors import KNeighborsClassifier\n",
        "\n",
        "model2 = KNeighborsClassifier(n_neighbors=3)\n",
        "model2 = cross_validation(model2, X, y)\n",
        "y_pred = model2.predict(array([[0.0, 7.2, 0.6, 2.6]]))\n",
        "le.inverse_transform(y_pred)[0]"
      ],
      "metadata": {
        "id": "ujYdCFLdMOAG"
      },
      "execution_count": null,
      "outputs": []
    },
    {
      "cell_type": "markdown",
      "source": [
        "## Decision Tree"
      ],
      "metadata": {
        "id": "wzQvuLh8C26K"
      }
    },
    {
      "cell_type": "code",
      "source": [
        "from sklearn import tree\n",
        "\n",
        "model3 = tree.DecisionTreeClassifier(criterion=\"gini\")\n",
        "model3 = cross_validation(model3, X, y)\n",
        "y_pred = model3.predict(array([[0.0, 7.2, 0.6, 2.6]]))\n",
        "le.inverse_transform(y_pred)[0]"
      ],
      "metadata": {
        "id": "ZAPAAxzjC55R"
      },
      "execution_count": null,
      "outputs": []
    },
    {
      "cell_type": "markdown",
      "source": [
        "## Export \n",
        "\n",
        "\n",
        "\n",
        "*   Label Encoder\n",
        "*   Model\n",
        "\n"
      ],
      "metadata": {
        "id": "6m9JGhHOESyA"
      }
    },
    {
      "cell_type": "code",
      "source": [
        "from sklearn.utils.validation import joblib\n",
        "# label encoder\n",
        "joblib.dump(le, \"le.save\") \n",
        "\n",
        "\n",
        "# model\n",
        "joblib.dump(model1, \"nb.joblib\")\n",
        "joblib.dump(model2, \"knn.joblib\")\n",
        "joblib.dump(model3, \"tree.joblib\")"
      ],
      "metadata": {
        "id": "orqmTvbrEQDt"
      },
      "execution_count": null,
      "outputs": []
    }
  ]
}