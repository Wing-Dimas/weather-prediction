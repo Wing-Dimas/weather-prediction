{
 "cells": [
  {
   "cell_type": "code",
   "execution_count": 4,
   "metadata": {},
   "outputs": [],
   "source": [
    "import pandas as pd\n",
    "import numpy as np\n",
    "\n",
    "data_input = {\n",
    "    \"pendapatan_setahun_juta\" : 20000,\n",
    "    \"durasi_pinjaman_bulan\" : 12,\n",
    "    \"jumlah_tanggungan\" : 5,\n",
    "    \"overdue_0 - 30 days\": 1,\n",
    "    \"overdue_31 - 45 days\": 0,\n",
    "    \"overdue_46 - 60 days\": 0,\n",
    "    \"overdue_61 - 90 days\": 0,\n",
    "    \"overdue_> 90 days\": 0,\n",
    "    \"KPR_TIDAK\" : 0,\n",
    "    \"KPR_YA\": 1\n",
    "}\n",
    "\n"
   ]
  },
  {
   "cell_type": "code",
   "execution_count": 5,
   "metadata": {},
   "outputs": [
    {
     "data": {
      "text/plain": [
       "(1, 10)"
      ]
     },
     "execution_count": 5,
     "metadata": {},
     "output_type": "execute_result"
    }
   ],
   "source": [
    "# inputs = [val for val in data_input.values()]\n",
    "inputs = np.array([[val for val in data_input.values()]])\n",
    "inputs.shape"
   ]
  },
  {
   "cell_type": "code",
   "execution_count": 21,
   "metadata": {},
   "outputs": [
    {
     "name": "stderr",
     "output_type": "stream",
     "text": [
      "d:\\KULIAH ONLINE\\Semester 5\\Penambangan Data\\project\\datamining\\lib\\site-packages\\sklearn\\base.py:329: UserWarning: Trying to unpickle estimator MinMaxScaler from version 1.0.2 when using version 1.1.3. This might lead to breaking code or invalid results. Use at your own risk. For more info please refer to:\n",
      "https://scikit-learn.org/stable/model_persistence.html#security-maintainability-limitations\n",
      "  warnings.warn(\n",
      "d:\\KULIAH ONLINE\\Semester 5\\Penambangan Data\\project\\datamining\\lib\\site-packages\\sklearn\\base.py:450: UserWarning: X does not have valid feature names, but MinMaxScaler was fitted with feature names\n",
      "  warnings.warn(\n"
     ]
    },
    {
     "data": {
      "text/plain": [
       "[0.5652173913043478, 0.0, 0.8333333333333333]"
      ]
     },
     "execution_count": 21,
     "metadata": {},
     "output_type": "execute_result"
    }
   ],
   "source": [
    "from sklearn.utils.validation import joblib\n",
    "scaler = joblib.load(\"scaler.save\")\n",
    "\n",
    "\n",
    "scaler.transform([[200,12, 5]])[0].tolist()\n",
    "\n"
   ]
  },
  {
   "cell_type": "code",
   "execution_count": null,
   "metadata": {},
   "outputs": [],
   "source": [
    "dataInput = np.array([[sepal_length, sepal_width, petal_length, petal_width]])\n",
    "if st.button('Predict'):\n",
    "    # y_pred = loaded_model.predict(dataInput)\n",
    "    # st.success(f'Predict {y_pred[0]}')\n",
    "    outputs = [\"setosa\", \"versicolor\",\"verginica\"]\n",
    "    index = loaded_model.predict([dataInput])\n",
    "\n",
    "    st.success(f'Predict {outputs[index - 1]}')"
   ]
  }
 ],
 "metadata": {
  "kernelspec": {
   "display_name": "Python 3.10.7 ('datamining': venv)",
   "language": "python",
   "name": "python3"
  },
  "language_info": {
   "codemirror_mode": {
    "name": "ipython",
    "version": 3
   },
   "file_extension": ".py",
   "mimetype": "text/x-python",
   "name": "python",
   "nbconvert_exporter": "python",
   "pygments_lexer": "ipython3",
   "version": "3.10.7"
  },
  "orig_nbformat": 4,
  "vscode": {
   "interpreter": {
    "hash": "5f3b669eab44fa5a19d05d4ec4ef032898e3337b3d09c9ed8b361d2486d61749"
   }
  }
 },
 "nbformat": 4,
 "nbformat_minor": 2
}
